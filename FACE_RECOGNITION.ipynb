{
 "cells": [
  {
   "cell_type": "markdown",
   "id": "spare-lafayette",
   "metadata": {},
   "source": [
    "# FACE RECOGNITION USING OpenCV"
   ]
  },
  {
   "cell_type": "code",
   "execution_count": 9,
   "id": "neural-equipment",
   "metadata": {},
   "outputs": [],
   "source": [
    "import numpy as np\n",
    "import cv2\n",
    "import os\n",
    "import warnings\n",
    "warnings.filterwarnings('ignore')\n",
    "from sklearn.neighbors import KNeighborsClassifier"
   ]
  },
  {
   "cell_type": "code",
   "execution_count": 10,
   "id": "imported-princess",
   "metadata": {},
   "outputs": [],
   "source": [
    "cap = cv2.VideoCapture(0)\n",
    "face_cascade = cv2.CascadeClassifier('haarcascade_frontalface_alt.xml')"
   ]
  },
  {
   "cell_type": "code",
   "execution_count": 11,
   "id": "delayed-stake",
   "metadata": {},
   "outputs": [
    {
     "name": "stdout",
     "output_type": "stream",
     "text": [
      "LoadedNavaneeth.npy\n",
      "LoadedPoongodi.npy\n",
      "LoadedSelva Kumar.npy\n",
      "(167, 30000) (167, 1)\n",
      "(167, 30001)\n"
     ]
    }
   ],
   "source": [
    "skil = 0\n",
    "dataset_path = 'Data/'\n",
    "\n",
    "face_data = []\n",
    "labels = []\n",
    "\n",
    "class_id = 0\n",
    "names = {}\n",
    "\n",
    "for fx in os.listdir(dataset_path):\n",
    "    if fx.endswith('.npy'):\n",
    "        \n",
    "        names[class_id] = fx[:-4]\n",
    "        print('Loaded'+ fx)\n",
    "        \n",
    "        data_item = np.load(dataset_path+fx)\n",
    "        face_data.append(data_item)\n",
    "        \n",
    "        \n",
    "        target = class_id * np.ones((data_item.shape[0],))\n",
    "        class_id += 1\n",
    "        labels.append(target)\n",
    "        \n",
    "face_dataset = np.concatenate(face_data, axis = 0)\n",
    "face_labels = np.concatenate(labels, axis = 0).reshape((-1,1))\n",
    "\n",
    "print(face_dataset.shape, face_labels.shape)\n",
    "\n",
    "\n",
    "trainset = np.concatenate((face_dataset, face_labels), axis = 1)\n",
    "\n",
    "print(trainset.shape)"
   ]
  },
  {
   "cell_type": "code",
   "execution_count": 12,
   "id": "noble-marketplace",
   "metadata": {},
   "outputs": [],
   "source": [
    "# TESTING :\n",
    "\n",
    "\n",
    "while True:\n",
    "    #ret = cap.read()\n",
    "    frame = cv2.imread('group.jpeg')\n",
    "#     if ret == False:\n",
    "#         continue\n",
    "        \n",
    "    faces = face_cascade.detectMultiScale(frame, 1.3, 5)\n",
    "    \n",
    "    if (len(faces) == 0):\n",
    "        continue\n",
    "        \n",
    "    for face in faces:\n",
    "        x, y, w, h = face\n",
    "        \n",
    "        offset = 10\n",
    "        \n",
    "        face_section = frame[y - offset : y + h + offset, x - offset : x + w + offset]\n",
    "        face_scetion = cv2.resize(face_section, (100, 100))\n",
    "        \n",
    "        \n",
    "        model = KNeighborsClassifier()\n",
    "        model.fit(face_dataset, face_labels)\n",
    "        \n",
    "        y_pred = model.predict([face_scetion.flatten()])\n",
    "        \n",
    "        \n",
    "        pred_name = names[int(y_pred)]\n",
    "        cv2.putText(frame, pred_name, (x,y-10), cv2.FONT_HERSHEY_TRIPLEX, 1, (255, 255, 255), 2, cv2.LINE_AA)\n",
    "        cv2.rectangle(frame, (x, y), (x + w, y + h), (0, 255, 0), 5)\n",
    "        \n",
    "    cv2.imshow('FACES', frame)\n",
    "\n",
    "    key = cv2.waitKey(1) & 0xFF\n",
    "\n",
    "    if key == ord('q'):\n",
    "        break\n",
    "    \n",
    "\n",
    "cap.release()\n",
    "cv2.destroyAllWindows()"
   ]
  },
  {
   "cell_type": "code",
   "execution_count": null,
   "id": "biblical-italic",
   "metadata": {},
   "outputs": [],
   "source": []
  }
 ],
 "metadata": {
  "kernelspec": {
   "display_name": "Python 3",
   "language": "python",
   "name": "python3"
  },
  "language_info": {
   "codemirror_mode": {
    "name": "ipython",
    "version": 3
   },
   "file_extension": ".py",
   "mimetype": "text/x-python",
   "name": "python",
   "nbconvert_exporter": "python",
   "pygments_lexer": "ipython3",
   "version": "3.8.8"
  }
 },
 "nbformat": 4,
 "nbformat_minor": 5
}
